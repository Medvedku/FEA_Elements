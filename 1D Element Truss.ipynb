{
 "cells": [
  {
   "cell_type": "markdown",
   "id": "06c7f2bb",
   "metadata": {},
   "source": [
    "1D element - prút\n",
    "=================\n",
    "\n",
    "Galerkinova metóda\n",
    "----------------------------\n",
    "Vychádzame z podmienky rovnováhy síl. Druhá derivácia premiestnenia podľa osi $x$ vynásobená Youngovým modulom pružnosti $E$ a prierezovou plochou je rovná zápornej hodnote pôsobiacej sily $p$.\n",
    "$$ E A \\dfrac{d^2 u}{dx^2} = -p$$\n",
    "Všetko dáme na jednu stranu a nazveme to reziduálne $R$. Dostávame teda\n",
    "$$ R = E A \\dfrac{d^2 u}{dx^2} + p $$\n",
    "Chceme aby bola suma reziduálnej odchýlky v riešenej oblasti minimálna. Čo sa dá zapísať ako\n",
    "$$ \\int\\limits_\\Omega^\\ R N_i dx = 0$$\n",
    "Kde $N_i$ je tvarová funkcia. Riešená oblasť je dĺžka elementu, preto integrujeme od $0$ až po $L$. Namiesto $R$ dosadíme $E A \\dfrac{d^2 u}{dx^2} + p$ a dostávame teda\n",
    "$$ \\int\\limits_0^L \\left( E A \\dfrac{d^2 u}{dx^2} + p \\right) N_i dx = 0$$\n",
    "Vytiahneme $p$ a dáme ho na druhú stranu, čím dostávame\n",
    "$$ \\int\\limits_0^L \\left( E A \\dfrac{d^2 u}{dx^2} \\right) N_i dx = -\\int\\limits_0^L p N_i dx $$\n",
    "\n",
    "Ľavú stranu rovnice môžeme integrovať po častiach.\n",
    "\n",
    "$$ \\int\\limits_0^L \\left( E A \\dfrac{d^2 u}{dx^2} \\right) N_i dx =  {\\left.\\left( E A \\dfrac{du}{dx} N_i \\right)\\right|}_{x=0}^{x=L} - \\int\\limits_0^L E A \\left( \\dfrac{du}{dx} \\right) \\left( \\dfrac{dN_i}{dx} \\right) dx $$\n",
    "\n",
    "Dosadením do predchádzajúcej rovnice získavame\n",
    "\n",
    "$$ {\\left.\\left( E A \\dfrac{du}{dx} N_i \\right)\\right|}_{x=0}^{x=L} - \\int\\limits_0^L E A \\left( \\dfrac{du}{dx} \\right) \\left( \\dfrac{dN_i}{dx} \\right) dx = -\\int\\limits_0^L p N_i dx $$\n",
    "\n",
    "Poprehadzujeme jednotlivé členy aby sme dostali kladné výrazy na oboch stranách rovnice čím dostaneme\n",
    "\n",
    "$$ \\int\\limits_0^L E A \\left( \\dfrac{du}{dx} \\right) \\left( \\dfrac{dN_i}{dx} \\right) dx = {\\left.\\left( E A \\dfrac{du}{dx} N_i \\right)\\right|}_{x=0}^{x=L}\n",
    "+ \\int\\limits_0^L p N_i dx $$\n",
    "\n",
    "Vo člene ${\\left.\\left( E A \\dfrac{du}{dx} N_i \\right)\\right|}_{x=0}^{x=L}$ máme Youngov modul pružnosti $E$ prenásobený prierezovou plochou $A$ prenásobený prvou deriváciou funkcie premiestnení. Prvá derivácia premiestnení je pomerné pretvorenie $\\varepsilon$. V postate ide o koncentrované zaťaženie v uzloch, ktoré môžeme označiť ako $f$ a teda $f = E A \\varepsilon$.  \n",
    "Pripomeňme si zjednodušenie metódy virtuálnej práce!\n",
    "Jediný prípad, kedy máme koncentrované zaťaženie v uzle, je vtedy, keď ide o externé zaťaženie v danom uzle! Tento člen bude uvažoavný samostatne a je možné ho v rovnici neuvažovať. (Zjednodušene povedané, nebudem tieto sily dookola prepočítavať pre každý uzol, ale konštrukciu zaťažím vektorom zaťaženia \"natvrdo\".) Dostávame rovnicu \n",
    "\n",
    "$$ \\int\\limits_0^L E A \\left( \\dfrac{du}{dx} \\right) \\left( \\dfrac{dN_i}{dx} \\right) dx = \\int\\limits_0^L p N_i dx $$\n",
    "\n",
    "Kde $N_i$ sú tvarové funkcie."
   ]
  }
 ],
 "metadata": {
  "kernelspec": {
   "display_name": "Python 3 (ipykernel)",
   "language": "python",
   "name": "python3"
  },
  "language_info": {
   "codemirror_mode": {
    "name": "ipython",
    "version": 3
   },
   "file_extension": ".py",
   "mimetype": "text/x-python",
   "name": "python",
   "nbconvert_exporter": "python",
   "pygments_lexer": "ipython3",
   "version": "3.8.10"
  }
 },
 "nbformat": 4,
 "nbformat_minor": 5
}
