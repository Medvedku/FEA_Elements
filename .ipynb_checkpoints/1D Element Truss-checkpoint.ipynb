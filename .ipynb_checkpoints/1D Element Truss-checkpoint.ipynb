{
 "cells": [
  {
   "cell_type": "markdown",
   "id": "67b4d946",
   "metadata": {},
   "source": [
    "1D element - prút\n",
    "=================\n",
    "\n",
    "Galerkinova metóda\n",
    "----------------------------\n",
    "\n",
    "![Obrazok 1](https://raw.githubusercontent.com/Medvedku/FEA_Elements/0e77a19b22f774a28eddc2438d0fafd2d2dd24b4/Images/1D/1D_Truss_01.svg \"Prvý obrázok\")\n",
    "<center><i>Obrázok 1: Vonkajšie a vnútorné sily pôsobiace na element</i></center>"
   ]
  },
  {
   "cell_type": "markdown",
   "id": "f98cb148",
   "metadata": {},
   "source": [
    "Pomocou Galerkinovej metódy získame tuhostnú maticu prvku ako aj vektor zaťažení.  \n",
    "Vychádzame z podmienky rovnováhy síl. Druhá derivácia premiestnenia podľa osi $x$ vynásobená Youngovým modulom pružnosti $E$ a prierezovou plochou je rovná zápornej hodnote pôsobiacej sily $p$.\n",
    "\n",
    "$$ E A \\dfrac{d^2 u}{dx^2} = -p$$\n",
    "\n",
    "Všetko dáme na jednu stranu a nazveme to reziduálne $R$. Dostávame teda\n",
    "\n",
    "$$ R = E A \\dfrac{d^2 u}{dx^2} + p $$\n",
    "\n",
    "Chceme aby bola suma reziduálnej odchýlky v riešenej oblasti minimálna. Čo sa dá zapísať ako\n",
    "\n",
    "$$ \\int\\limits_\\Omega^\\ R N_i dx = 0$$\n",
    "\n",
    "Kde $N_i$ je tvarová funkcia. Riešená oblasť je dĺžka elementu, preto integrujeme od $0$ až po $L$. Namiesto $R$ dosadíme $E A \\dfrac{d^2 u}{dx^2} + p$ a dostávame teda\n",
    "\n",
    "$$ \\int\\limits_0^L \\left( E A \\dfrac{d^2 u}{dx^2} + p \\right) N_i dx = 0$$\n",
    "\n",
    "Vytiahneme $p$ a dáme ho na druhú stranu, čím dostávame\n",
    "\n",
    "$$ \\int\\limits_0^L \\left( E A \\dfrac{d^2 u}{dx^2} \\right) N_i dx = -\\int\\limits_0^L p N_i dx $$\n",
    "\n",
    "Ľavú stranu rovnice môžeme integrovať po častiach.\n",
    "\n",
    "$$ \\int\\limits_0^L \\left( E A \\dfrac{d^2 u}{dx^2} \\right) N_i dx =  {\\left.\\left( E A \\dfrac{du}{dx} N_i \\right)\\right|}_{x=0}^{x=L} - \\int\\limits_0^L E A \\left( \\dfrac{du}{dx} \\right) \\left( \\dfrac{dN_i}{dx} \\right) dx $$\n",
    "\n",
    "Dosadením do predchádzajúcej rovnice získavame\n",
    "\n",
    "$$ {\\left.\\left( E A \\dfrac{du}{dx} N_i \\right)\\right|}_{x=0}^{x=L} - \\int\\limits_0^L E A \\left( \\dfrac{du}{dx} \\right) \\left( \\dfrac{dN_i}{dx} \\right) dx = -\\int\\limits_0^L p N_i dx $$\n",
    "\n",
    "Poprehadzujeme jednotlivé členy aby sme mali kladné výrazy na oboch stranách rovnice, čím dostaneme\n",
    "\n",
    "$$ \\int\\limits_0^L E A \\left( \\dfrac{du}{dx} \\right) \\left( \\dfrac{dN_i}{dx} \\right) dx = {\\left.\\left( E A \\dfrac{du}{dx} N_i \\right)\\right|}_{x=0}^{x=L}\n",
    "+ \\int\\limits_0^L p N_i dx $$\n",
    "\n",
    "V člene ${\\left.\\left( E A \\dfrac{du}{dx} N_i \\right)\\right|}_{x=0}^{x=L}$ máme Youngov modul pružnosti $E$ prenásobený prierezovou plochou $A$ prenásobený prvou deriváciou funkcie premiestnení. Prvá derivácia premiestnení je pomerné pretvorenie $\\varepsilon$. V postate ide o koncentrované zaťaženie v uzloch, ktoré môžeme označiť ako $f$ a teda $f = E A \\varepsilon$.  \n",
    "Pripomeňme si zjednodušenie metódy virtuálnej práce!\n",
    "Jediný prípad, kedy máme koncentrované zaťaženie v uzle, je vtedy, keď ide o externé zaťaženie v danom uzle! Tento člen bude uvažovaný samostatne a je možné ho z rovnice šrtnúť. (Zjednodušene povedané, nebudem tieto sily dookola prepočítavať pre každý uzol, ale konštrukciu zaťažím vektorom zaťaženia \"natvrdo\".) Dostávame teda rovnicu \n",
    "\n",
    "$$ \\int\\limits_0^L E A \\left( \\dfrac{du}{dx} \\right) \\left( \\dfrac{dN_i}{dx} \\right) dx = \\int\\limits_0^L p N_i dx $$\n",
    "\n",
    "Kde $N_i$ sú tvarové funkcie.\n",
    "Potrebujeme vyjadriť funkcie premiestnenia v uzloch $(u_1, u_2)$"
   ]
  },
  {
   "cell_type": "markdown",
   "id": "3d88c678",
   "metadata": {},
   "source": [
    "![Obrazok 2](https://raw.githubusercontent.com/Medvedku/FEA_Elements/0e77a19b22f774a28eddc2438d0fafd2d2dd24b4/Images/1D/1D_Truss_02.svg \"Druhý obrázok\")  \n",
    "<center><i>Obrázok 2: Aproximácia funkcie premiestnení</i></center>"
   ]
  },
  {
   "cell_type": "markdown",
   "id": "eb863768",
   "metadata": {},
   "source": [
    "Posuny uzlov $x_1, x_2$ sú označené ako $u_1$ a $u_2$. Priebeh medzi nimi sme aproximovali lineárnou funkciou $u_e$. Členy $a_0$ a $a_1$ vyjadríme dosadením súradnice $x$ do rovnice $u_e$.\n",
    "\n",
    "$$\\left.\\begin{matrix}\n",
    "u(x_1) = a_0 + a_1x_1 = u_1 \\\\\n",
    "u(x_2) = a_0 + a_1x_2 = u_2\n",
    "\\end{matrix}\\right\\} a_0 = \\dfrac{u_2x_1 - u_2x_1 }{L}\\, , \\, a_1 = \\dfrac{u_2 - u_1}{L}$$\n",
    "\n",
    "koeficienty $a_0$ a $a_1$ dosadíme spať do rovnice $u$\n",
    "\n",
    "$$ u = \\dfrac{u_2x_1 - u_2x_1 }{L} + \\dfrac{u_2 - u_1}{L} x$$\n",
    "\n",
    "ktorú keď trocha poupratujeme dostávame funkciu v tvare\n",
    "\n",
    "$$ u = \\dfrac{x_2 - x}{L} u_1 + \\dfrac{x - x_1 }{L} u_2 $$\n",
    "\n",
    "funkcia premiestnení je popísaná súčtom nejakej funkcie v tvare $\\dfrac{x_2 - x}{L}$ prenásobenou premiestnením prvého uzla $u_1$ a nejakej funkcie v tvare $\\dfrac{x - x_1 }{L}$ prenásobenou premiestnením druhého uzla.\n",
    "Tieto dve \"nejaké\" funkcie sú práve tvarovými funkciami $N_1$ a $N_2$. Môžeme ich teda zapísať v tvare\n",
    "\n",
    "$$ N_1 = \\dfrac{x_2 - x}{L},\\ N_2 = \\dfrac{x - x_1 }{L} $$\n"
   ]
  },
  {
   "cell_type": "markdown",
   "id": "02a7262e",
   "metadata": {},
   "source": [
    "Teraz keď už vieme aký tvar majú naše tvarové funkcie vieme povedať že funkcia posunov $u$ je vlastne lineárna kombinácia tvarových funkcií prenásobená jednotlivými premiestneniami. Funkciu premiestnení môžeme teda zapísať ako\n",
    "$ u = u_1 N_1 + u_2 N_2 $.  \n",
    "Vo výraze $ \\int\\limits_0^L E A \\left( \\dfrac{du}{dx} \\right) \\left( \\dfrac{dN_i}{dx} \\right) dx = \\int\\limits_0^L p N_i dx $ je v člene $\\left( \\dfrac{du}{dx} \\right)$ derivácia funkcie premiestnení. Keďže $u_1$ a $u_2$ sú konštanty môžeme ich vyňať pred derivácie. Tento člen môžeme zapísať ako\n",
    "$$ \\dfrac{du}{dx} = u_1 \\left( \\dfrac{dN_1}{dx} \\right) + u_2 \\left( \\dfrac{dN_2}{dx} \\right) $$\n",
    "Takúto funkciu môžeme zapísať aj vo vektorovom zápise\n",
    "\n",
    "$$ \\dfrac{du}{dx} = \\begin{bmatrix} \\dfrac{dN_1}{dx} & \\dfrac{dN_2}{dx} \\end{bmatrix} \\begin{bmatrix} u_1 \\\\ u _2 \n",
    "\\end{bmatrix} $$\n",
    "\n",
    "Toto vyjadrenie derivácie funkcie premiestnení dosadíme do predchádzajúcej rovnice čím získame\n",
    "\n",
    "$$ \\underbrace{\\int\\limits_0^L E A \\begin{bmatrix} \\dfrac{dN_1}{dx} & \\dfrac{dN_2}{dx} \\end{bmatrix} \\left( \\dfrac{dN_i}{dx} \\right) dx}_{tuhostná\\ matica\\ elementu} \\begin{bmatrix} u_1 \\\\ u _2 k\n",
    "\\end{bmatrix} = \\underbrace{\\int\\limits_0^L p N_i dx}_{zaťažovací\\ vektor} $$\n",
    "\n",
    "V tejto rovnici máme výraz $\\left( \\dfrac{dN_i}{dx} \\right)$ ktorý reprezentuje derivácie tvarových funkcií $N_i$. Kedže v tomto prípade máme 2 tvarové funkcie, budeme počítať danú funkciu dva krát.  \n",
    "Uvážme konštantnú prierezovú plochu $A$ ako aj Youngov modul pružnosti materiálu $E$ po celej dĺžke prierezu. Pre odvodenie tuhostnej matice riešeného elementu potrebujeme riešiť prvý člen ľavej strany spomínanej rovnice.  \n",
    "Ako prvé riešme derivácie tvarových funkcií\n",
    "\n",
    "$$ \\begin{matrix} \n",
    "\\dfrac{dN_1}{d_x} = \\dfrac{d}{d_x} \\left[ \\dfrac{x_2 - x}{L} \\right] = \\dfrac{-1}{L} \\\\ \n",
    "\\dfrac{dN_1}{d_x} = \\dfrac{d}{d_x} \\left[ \\dfrac{x - x_1 }{L} \\right] = \\dfrac{1}{L} \n",
    "\\end{matrix} $$\n",
    "\n",
    "Ich spätným dosadením získame zápis\n",
    "\n",
    "$$ 1) \\int\\limits_0^L E A \\begin{bmatrix} \\dfrac{-1}{L} & \\dfrac{1}{L} \\end{bmatrix} \\left( \\dfrac{dN_1}{dx} \\right) dx = \n",
    "\\int\\limits_0^L E A \\begin{bmatrix} \\dfrac{-1}{L} & \\dfrac{1}{L} \\end{bmatrix} \\left( \\dfrac{-1}{L} \\right) dx = \\dfrac{EA}{L} \\begin{bmatrix} 1 & -1 \\end{bmatrix} $$\n",
    "$$ 2) \\int\\limits_0^L E A \\begin{bmatrix} \\dfrac{-1}{L} & \\dfrac{1}{L} \\end{bmatrix} \\left( \\dfrac{dN_1}{dx} \\right) dx = \n",
    "\\int\\limits_0^L E A \\begin{bmatrix} \\dfrac{-1}{L} & \\dfrac{1}{L} \\end{bmatrix} \\left( \\dfrac{1}{L} \\right) dx = \\dfrac{EA}{L} \\begin{bmatrix} -1 & 1 \\end{bmatrix} $$"
   ]
  },
  {
   "cell_type": "markdown",
   "id": "d38fabe0",
   "metadata": {},
   "source": [
    "Dostávame teda tuhostnú maticu elementu $[k_e]$ ktorú môžeme zapísať v tvare \n",
    "\n",
    "$$ [k_e] = \\dfrac{EA}{L} \\begin{bmatrix} \n",
    "1  & -1 \\\\\n",
    "-1 &  1\n",
    "\\end{bmatrix}$$"
   ]
  }
 ],
 "metadata": {
  "kernelspec": {
   "display_name": "Python 3 (ipykernel)",
   "language": "python",
   "name": "python3"
  },
  "language_info": {
   "codemirror_mode": {
    "name": "ipython",
    "version": 3
   },
   "file_extension": ".py",
   "mimetype": "text/x-python",
   "name": "python",
   "nbconvert_exporter": "python",
   "pygments_lexer": "ipython3",
   "version": "3.8.10"
  }
 },
 "nbformat": 4,
 "nbformat_minor": 5
}
