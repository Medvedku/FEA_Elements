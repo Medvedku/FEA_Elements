{
 "cells": [
  {
   "cell_type": "markdown",
   "id": "67b4d946",
   "metadata": {},
   "source": [
    "1D element - prút\n",
    "=================\n",
    "\n",
    "Galerkinova metóda\n",
    "----------------------------\n",
    "\n",
    "![Obrazok 1](https://raw.githubusercontent.com/Medvedku/FEA_Elements/0e77a19b22f774a28eddc2438d0fafd2d2dd24b4/Images/1D/1D_Truss_01.svg \"Prvý obrázok\")\n",
    "<center><i>Obrázok 1: Vonkajšie a vnútorné sily pôsobiace na element</i></center>"
   ]
  },
  {
   "cell_type": "markdown",
   "id": "f98cb148",
   "metadata": {},
   "source": [
    "Pomocou Galerkinovej metódy získame tuhostnú maticu prvku ako aj vektor zaťažení.  \n",
    "Vychádzame z podmienky rovnováhy síl. Druhá derivácia premiestnenia podľa osi $x$ vynásobená Youngovým modulom pružnosti $E$ a prierezovou plochou je rovná zápornej hodnote pôsobiacej sily $p$.\n",
    "$$ E A \\dfrac{d^2 u}{dx^2} = -p$$\n",
    "Všetko dáme na jednu stranu a nazveme to reziduálne $R$. Dostávame teda\n",
    "$$ R = E A \\dfrac{d^2 u}{dx^2} + p $$\n",
    "Chceme aby bola suma reziduálnej odchýlky v riešenej oblasti minimálna. Čo sa dá zapísať ako\n",
    "$$ \\int\\limits_\\Omega^\\ R N_i dx = 0$$\n",
    "Kde $N_i$ je tvarová funkcia. Riešená oblasť je dĺžka elementu, preto integrujeme od $0$ až po $L$. Namiesto $R$ dosadíme $E A \\dfrac{d^2 u}{dx^2} + p$ a dostávame teda\n",
    "$$ \\int\\limits_0^L \\left( E A \\dfrac{d^2 u}{dx^2} + p \\right) N_i dx = 0$$\n",
    "Vytiahneme $p$ a dáme ho na druhú stranu, čím dostávame\n",
    "$$ \\int\\limits_0^L \\left( E A \\dfrac{d^2 u}{dx^2} \\right) N_i dx = -\\int\\limits_0^L p N_i dx $$\n",
    "\n",
    "Ľavú stranu rovnice môžeme integrovať po častiach.\n",
    "\n",
    "$$ \\int\\limits_0^L \\left( E A \\dfrac{d^2 u}{dx^2} \\right) N_i dx =  {\\left.\\left( E A \\dfrac{du}{dx} N_i \\right)\\right|}_{x=0}^{x=L} - \\int\\limits_0^L E A \\left( \\dfrac{du}{dx} \\right) \\left( \\dfrac{dN_i}{dx} \\right) dx $$\n",
    "\n",
    "Dosadením do predchádzajúcej rovnice získavame\n",
    "\n",
    "$$ {\\left.\\left( E A \\dfrac{du}{dx} N_i \\right)\\right|}_{x=0}^{x=L} - \\int\\limits_0^L E A \\left( \\dfrac{du}{dx} \\right) \\left( \\dfrac{dN_i}{dx} \\right) dx = -\\int\\limits_0^L p N_i dx $$\n",
    "\n",
    "Poprehadzujeme jednotlivé členy aby sme mali kladné výrazy na oboch stranách rovnice, čím dostaneme\n",
    "\n",
    "$$ \\int\\limits_0^L E A \\left( \\dfrac{du}{dx} \\right) \\left( \\dfrac{dN_i}{dx} \\right) dx = {\\left.\\left( E A \\dfrac{du}{dx} N_i \\right)\\right|}_{x=0}^{x=L}\n",
    "+ \\int\\limits_0^L p N_i dx $$\n",
    "\n",
    "V člene ${\\left.\\left( E A \\dfrac{du}{dx} N_i \\right)\\right|}_{x=0}^{x=L}$ máme Youngov modul pružnosti $E$ prenásobený prierezovou plochou $A$ prenásobený prvou deriváciou funkcie premiestnení. Prvá derivácia premiestnení je pomerné pretvorenie $\\varepsilon$. V postate ide o koncentrované zaťaženie v uzloch, ktoré môžeme označiť ako $f$ a teda $f = E A \\varepsilon$.  \n",
    "Pripomeňme si zjednodušenie metódy virtuálnej práce!\n",
    "Jediný prípad, kedy máme koncentrované zaťaženie v uzle, je vtedy, keď ide o externé zaťaženie v danom uzle! Tento člen bude uvažovaný samostatne a je možné ho z rovnice šrtnúť. (Zjednodušene povedané, nebudem tieto sily dookola prepočítavať pre každý uzol, ale konštrukciu zaťažím vektorom zaťaženia \"natvrdo\".) Dostávame teda rovnicu \n",
    "\n",
    "$$ \\int\\limits_0^L E A \\left( \\dfrac{du}{dx} \\right) \\left( \\dfrac{dN_i}{dx} \\right) dx = \\int\\limits_0^L p N_i dx $$\n",
    "\n",
    "Kde $N_i$ sú tvarové funkcie.\n",
    "Potrebujeme vyjadriť funkcie premiestnenia v uzloch $(u_1, u_2)$"
   ]
  },
  {
   "cell_type": "markdown",
   "id": "3d88c678",
   "metadata": {},
   "source": [
    "![Obrazok 2](https://raw.githubusercontent.com/Medvedku/FEA_Elements/0e77a19b22f774a28eddc2438d0fafd2d2dd24b4/Images/1D/1D_Truss_02.svg \"Druhý obrázok\")  \n",
    "<center><i>Obrázok 2: Aproximácia funkcie premiestnení</i></center>"
   ]
  },
  {
   "cell_type": "markdown",
   "id": "eb863768",
   "metadata": {},
   "source": [
    "Posuny uzlov $x_1, x_2$ sú označené ako $u_1$ a $u_2$. Priebeh medzi nimi sme aproximovali lineárnou funkciou $u_e$. Členy $a_0$ a $a_1$ vyjadríme dosadením súradnice $x$ do rovnice $u_e$.\n",
    "\n",
    "$$\\left.\\begin{matrix}\n",
    "u(x_1) = a_0 + a_1x_1 = u_1 \\\\\n",
    "u(x_2) = a_0 + a_1x_2 = u_2\n",
    "\\end{matrix}\\right\\} a_0 = \\dfrac{u_2x_1 - u_2x_1 }{L}\\, , \\, a_1 = \\dfrac{u_2 - u_1}{L}$$\n",
    "\n",
    "koeficienty $a_0$ a $a_1$ dosadíme spať do rovnice $u$\n",
    "$$ u = \\dfrac{u_2x_1 - u_2x_1 }{L} + \\dfrac{u_2 - u_1}{L} x$$\n",
    "ktorú keď trocha poupratujeme dostávame funkciu v tvare\n",
    "$$ u = \\dfrac{x_2 - x}{L} u_1 + \\dfrac{x - x_1 }{L} u_2 $$\n",
    "\n",
    "funkcia premiestnení je popísaná súčtom nejakej funkcie v tvare $\\dfrac{x_2 - x}{L}$ prenásobenou premiestnením prvého uzla $u_1$ a nejakej funkcie v tvare $\\dfrac{x - x_1 }{L}$ prenásobenou premiestnením druhého uzla.\n",
    "Tieto dve \"nejaké\" funkcie sú práve tvarovými funkciami $N_1$ a $N_2$. Môžeme ich teda zapísať v tvare\n",
    "\n",
    "$$ N_1 = \\dfrac{x_2 - x}{L},\\ N_2 = \\dfrac{x - x_1 }{L} $$\n"
   ]
  },
  {
   "cell_type": "markdown",
   "id": "02a7262e",
   "metadata": {},
   "source": []
  },
  {
   "cell_type": "code",
   "execution_count": null,
   "id": "165c118e",
   "metadata": {},
   "outputs": [],
   "source": []
  }
 ],
 "metadata": {
  "kernelspec": {
   "display_name": "Python 3 (ipykernel)",
   "language": "python",
   "name": "python3"
  },
  "language_info": {
   "codemirror_mode": {
    "name": "ipython",
    "version": 3
   },
   "file_extension": ".py",
   "mimetype": "text/x-python",
   "name": "python",
   "nbconvert_exporter": "python",
   "pygments_lexer": "ipython3",
   "version": "3.8.10"
  }
 },
 "nbformat": 4,
 "nbformat_minor": 5
}
